{
 "cells": [
  {
   "cell_type": "code",
   "execution_count": 1,
   "id": "1e09fe6e",
   "metadata": {},
   "outputs": [
    {
     "name": "stderr",
     "output_type": "stream",
     "text": [
      "/usr/local/python/3.12.1/lib/python3.12/site-packages/tqdm/auto.py:21: TqdmWarning: IProgress not found. Please update jupyter and ipywidgets. See https://ipywidgets.readthedocs.io/en/stable/user_install.html\n",
      "  from .autonotebook import tqdm as notebook_tqdm\n"
     ]
    }
   ],
   "source": [
    "from tqdm.auto import tqdm\n",
    "from glob import glob\n",
    "import pandas as pd"
   ]
  },
  {
   "cell_type": "code",
   "execution_count": 2,
   "id": "8456b5b6-185b-440b-ab98-1822aac2fe4f",
   "metadata": {},
   "outputs": [],
   "source": [
    "import json\n",
    "\n",
    "with open('documents-with-ids.json', 'rt') as f_in:\n",
    "    documents = json.load(f_in)"
   ]
  },
  {
   "cell_type": "code",
   "execution_count": 3,
   "id": "94b1bc70",
   "metadata": {},
   "outputs": [],
   "source": [
    "ELASTIC_URL = 'http://localhost:9200' # 'http://localhost:9200'"
   ]
  },
  {
   "cell_type": "code",
   "execution_count": 4,
   "id": "620ed5a1-cc06-40a3-8627-891aed525cba",
   "metadata": {},
   "outputs": [
    {
     "data": {
      "text/plain": [
       "ObjectApiResponse({'acknowledged': True, 'shards_acknowledged': True, 'index': 'book-reviews'})"
      ]
     },
     "execution_count": 4,
     "metadata": {},
     "output_type": "execute_result"
    }
   ],
   "source": [
    "from elasticsearch import Elasticsearch\n",
    "\n",
    "es_client = Elasticsearch(ELASTIC_URL)\n",
    "\n",
    "index_settings = {\n",
    "    \"settings\": {\n",
    "        \"number_of_shards\": 1,\n",
    "        \"number_of_replicas\": 0\n",
    "    },\n",
    "    \"mappings\": {\n",
    "        \"properties\": {\n",
    "            \"author\": {\"type\": \"text\"},\n",
    "            \"title\": {\"type\": \"text\"},\n",
    "            \"text\": {\"type\": \"text\"},\n",
    "            \"category\": {\"type\": \"keyword\"},\n",
    "            \"id\": {\"type\": \"keyword\"},\n",
    "        }\n",
    "    }\n",
    "}\n",
    "\n",
    "index_name = \"book-reviews\"\n",
    "\n",
    "es_client.indices.delete(index=index_name, ignore_unavailable=True)\n",
    "es_client.indices.create(index=index_name, body=index_settings)"
   ]
  },
  {
   "cell_type": "code",
   "execution_count": 5,
   "id": "58a9daf0-9b68-48fb-b992-59782b625e33",
   "metadata": {},
   "outputs": [
    {
     "name": "stderr",
     "output_type": "stream",
     "text": [
      "100%|██████████| 158/158 [00:04<00:00, 34.13it/s]\n"
     ]
    }
   ],
   "source": [
    "for doc in tqdm(documents):\n",
    "    es_client.index(index=index_name, document=doc)"
   ]
  },
  {
   "cell_type": "code",
   "execution_count": 6,
   "id": "1e954252",
   "metadata": {},
   "outputs": [
    {
     "data": {
      "text/plain": [
       "{'id': 'B000FCJZ3G000',\n",
       " 'author': 'T. Harv Eker',\n",
       " 'title': 'Secrets of the Millionaire Mind: Mastering the Inner Game of Wealth',\n",
       " 'category': 'bm',\n",
       " 'text': 'This book is average at best.  A big commercial for his seminars, which are mentioned at least 100 times.  You never learn how to diagnose your own \"money blueprint\" because of course you have to pay to go to a seminar for that.  This was a big let down. Also there were no chapters so without natural breaks it was really hard to read.  There are a few decent lessons and highlights to take away, but much less useful than most other highly rated money books.'}"
      ]
     },
     "execution_count": 6,
     "metadata": {},
     "output_type": "execute_result"
    }
   ],
   "source": [
    "documents[0]"
   ]
  },
  {
   "cell_type": "code",
   "execution_count": 7,
   "id": "08c8586c-2976-4746-9b2d-0442c360211d",
   "metadata": {},
   "outputs": [],
   "source": [
    "def elastic_search(query, category):\n",
    "    search_query = {\n",
    "        \"size\": 5,\n",
    "        \"query\": {\n",
    "            \"bool\": {\n",
    "                \"must\": {\n",
    "                    \"multi_match\": {\n",
    "                        \"query\": query,\n",
    "                        \"fields\": [\"text^3\", \"title^2\", \"author^2\"],\n",
    "                        \"type\": \"best_fields\"\n",
    "                    }\n",
    "                },\n",
    "                \"filter\": {\n",
    "                    \"term\": {\n",
    "                        \"category\": category\n",
    "                    }\n",
    "                }\n",
    "            }\n",
    "        }\n",
    "    }\n",
    "\n",
    "    response = es_client.search(index=index_name, body=search_query)\n",
    "    \n",
    "    result_docs = []\n",
    "    \n",
    "    for hit in response['hits']['hits']:\n",
    "        result_docs.append(hit['_source'])\n",
    "    \n",
    "    return result_docs"
   ]
  },
  {
   "cell_type": "code",
   "execution_count": 8,
   "id": "d7ec3171-f2cc-4be5-8de5-4e8131cdeccb",
   "metadata": {},
   "outputs": [
    {
     "data": {
      "text/plain": [
       "[{'id': 'B09BTV53VD131',\n",
       "  'author': 'Benjamin P. Hardy',\n",
       "  'title': 'Be Your Future Self Now: The Science of Intentional Transformation',\n",
       "  'category': 'bm',\n",
       "  'text': \"[[VIDEOID:b0af83c60a89ba48220269c6223326c2]] Have read every one of Dr. Hardy's books, this one ranks at the very top.  Have read over 1000 books in the productivity / self dev / business entrepreneur world, and this is probably in my top 5.  We all want to get to our goals and outcomes faster.  Most of us including me fall short.  If you follow what Dr. Hardy says in this gem, you will get to your goals and outcomes with a whole lot more certainty, faster than you ever thought was possible.  I read this five weeks ago, did everything Dr. Hardy told me to do in the book including the last step in the conclusion, and have never come close to having more gigantic opportunities come into my life because I was acting like my future self (5 years from now - even more energetic, happy, fulfilled, successful, fit) which allowed me to receive those opportunities.  Half of those five weeks were spent sick with COVID by the way.  Thank you Dr. Hardy for writing such a gem which allows us to live in abundance and get what we want and deserve in our lives.  See the video if you want more of the review.\"},\n",
       " {'id': 'B09BTV53VD133',\n",
       "  'author': 'Benjamin P. Hardy',\n",
       "  'title': 'Be Your Future Self Now: The Science of Intentional Transformation',\n",
       "  'category': 'bm',\n",
       "  'text': \"Hardy also produces YouTube vids, and much of the book reads like a transcription of the videos. That's not always a bad thing. Funny, but I think of Jesus when I read his book or listen to a video: I see now how people around Jesus were amazed that Jesus spoke differently, as one with authority. Hardy does not do that. In fact, his writing and talking are generally long dissertations of other people's work and what other people said and how other people do things...all with notes and references.  As an aficionado of self-help, I was excited about this book but there's really nothing new added here that's added to the genre. If you can call it a genre. It's similar stuff uniquely packaged and said differently, but if you have read other big name self-helpers, then you will have heard it all before.  One thing bothers me, and maybe it's the real truth of all self-helpers: other writers say their goal is to help you - the reader - achieve and attain and become something. Hardy is unabashed that his goal is to be a professional writer. When I talk with other newish writers - a woman I know in Britain has just published her second book and we talk about this - they are busting at the seams to write and connect with people. You sense in their voice and in the tone of their writing that this welling up of feelings is genuine. I sense with Hardy that he...wants to be famous. I do not know him and might change my mind if we met...  Okay, two things. I signed onto something and gave him my email address. Now I get two or three emails a week directing me to a breakthrough 90-minute video that I SIMPLY MUST WATCH IF I'M SERIOUS ABOUT MY FUTURE. Maybe, if I were serious about my future, I'd set aside the four or five hours a week to watch this stuff, but, well, the lawn needs mowing and I have my own books to write.  Even so, it's good read that is written conversationally.\"},\n",
       " {'id': 'B000OT8GD0014',\n",
       "  'author': 'Malcolm Gladwell',\n",
       "  'title': 'The Tipping Point: How Little Things Can Make a Big Difference',\n",
       "  'category': 'bm',\n",
       "  'text': 'I realize I’m a little late to this book. It was published in 2002, and many of my friends have already read it. This is the second of his books I’ve read, and I find myself again slightly uncomfortable. I realize what was tolerable twenty years ago differs from today. So maybe he needs to update it. Or, just like something’s were always wrong, regardless of historical context, maybe it’s just wrong.  I have to wonder what Michelle Alexander would say to Malcolm Gladwell on his chapter talking about crime. This whole chapter in crime was triggering for me. I remember when Bernard Goetz killed those four youths. I remember him being glorified for murdering them in the name of vigilante justice. I remember him being let go. Despite his deep psychological issues, despite having committed four deadly crimes in the space of minutes in front of many witnesses, he was set free. Gladwell could’ve made his point without this example, where a White man was not held accountable for the four lives he took, all of whom were Black. And at the end of the chapter, he pretty much gives Goetz a pass for behaving in an excusable way given his environment. WtF!  He also uses examples where women are painted in sexist hues, using words and phrases like, “would she be able to handle everything by herself (financially, if her husband died)”, in another chapter, he uses the example of a woman, calling her “castrating.”  Then there’s the issue of class. He doesn’t define what constitutes a “good neighborhood” or a “good family” but says a juvenile’s success can be determined by both factors.  I was also deeply disturbed by his parallel between teen suicide in Micronesia and teen smoking in the Western Hemisphere. I really wish he’d used a different example. Suicide and smoking are not analogous in any context since the former results in a total and sudden loss of life, not to mention that there are too many cultural differences between Micronesia and the entire Western Hemisphere. They are simply incomparable. I say the same thing when he compared these same smokers to the school shootings that are so commonplace these days. They are incomparable. He should’ve used different examples, or he should’ve used just one rather than trying to compare them. Plus, I question the accuracy of his smokers’ profile, given there was no data to accompany it - just a British psychologist’s written observations from an undocumented time. Certainly, I don’t fit the profile, and I was a chain smoker for many years.  Some of the conclusions were illogical. Citing studies where one thing should be concluded by the absence of the other is not necessarily the right conclusion. You have to test the absent portion first. Without the second set of data, the first conclusion is exposed to fallacy. Maybe that absence was considered, but because he jumps to the conclusion without it, it makes me wonder of it was. It’s like saying you will lose weight if you stop drinking soda. Well, would that still be the only logical conclusion if you you were sick or you were increasing your exercise, or what if you increased your chocolate intake while eliminating soda? So this makes me question the soundness of the rest of his conclusions. It’s not to say I throw out everything he says, but it is to wonder how much of it I can trust. I might be more open to his analyses if the book had even one footnote. For all I know, this could be a complete work of fiction, because I have no references to fact-check.  If he were to update some of the sociopolitical contexts I mentioned and if he were to include how the tipping point works in social media, I would definitely be interested in rereading it.'},\n",
       " {'id': 'B06XFJ2JGR069',\n",
       "  'author': 'Donald Miller',\n",
       "  'title': 'Building a StoryBrand: Clarify Your Message So Customers Will Listen',\n",
       "  'category': 'bm',\n",
       "  'text': 'I’ve been a professional writer and copywriter for 50 years now. I’ve written fiction and nonfiction books, articles, blog posts, and a boatload of marketing material. I’ve used the hero’s journey model for more than two decades. So, when I tell you that Building A Story Brand: Clarify Your Message So Customers Will Listen by Donald Miller is a book that taught me a lot, that should carry some weight.  I picked it up because a good and trusted friend told me that he thought I’d like it and learn something. At first glance, I thought it was another one of those books about the magic of the hero’s journey. Even so, I dug into it, because my friend is almost always right when he recommends a book. He sure was right this time.  Lots of people have written about how to use the hero’s journey in both storytelling and in marketing copy. This book is about writing marketing copy, especially web copy. Donald Miller does four important things that make this book unique and helpful.  He points out that you shouldn’t be the hero of the story. Many writers do that, but the customer should be the hero. OK, then, what about the company or the brand? That should be the guide. Think Obi-Wan Kenobi from Star Wars or Haymitch from Hunger Games.  Miller also notes that if there’s no danger, there’s no story that matters. Most other writers don’t mention the danger or underplay it. But the reason we call it the” hero’s journey” is that the hero makes it through the forest when lots of other people don’t. Adding that bit on what will happen if the hero fails in his quest will make your marketing copy and your stories stronger.  If you’re used to jargon-filled marketing books, rejoice! This isn’t one of them. Miller writes good, clean prose and his experience as a screenwriter shows up in many of his clear explanations.  That’s enough right there to make this book worth buying. But Miller also lays out a process for you to use when you sit down to create your own copy. He tells you, step by step, how to execute copy that brings each one into play.  In A Nutshell  If you’re an experienced writer or copy writer, you should read Building A Story Brand: Clarify Your Message So Customers Will Listen by Donald Miller because it will give you some fresh ideas and insights. If you’re like me, you will already know a lot of what’s here, but you’ll benefit from the clear explanations and the practical how-tos.  If you’re not a pro, this is a great book for you to help you either write your own copy for your website or marketing material or evaluate the copy that other people do for you.'},\n",
       " {'id': 'B014DUR7L2043',\n",
       "  'author': 'Tahl Raz',\n",
       "  'title': 'Never Split the Difference: Negotiating As If Your Life Depended On It',\n",
       "  'category': 'bm',\n",
       "  'text': \"My guess is around 70% of my purchases are made on Amazon: it's a lot of stuff, both for home and for my company. This is the first item (across all categories) that I have written a review for. I am compelled because this book has changed my life, and I suspect it can change yours — What do you have to lose by reading it?  I thought I’d learned what I needed to know about negotiation. I went to a prestigious business school and took their negotiation class, learning all about Getting Yes, BATNA, and other fancy acronyms. I’d also had to bargain my share in both work and personal life. Yet, I felt like the tools I’d been given were meant for some alternate reality where people are totally dispassionate, rational robots, doing math in their heads to get to logical outcomes. The negotiations I’d been in with were instead with passionate, irrational (including myself) humans, sometimes getting angry or sad, often making decisions that didn’t “make any sense” (to me). I was pretty sure the negotiation outcomes we were getting to were subpar, both for me and for them: a lot of splitting the difference, mostly to make the negotiations — which felt uncomfortable for all parties — stop.  Note, when I mean “negotiation”, I’m speaking pretty broadly: from “negotiating' with my fianc&eacute;e on who should walk the dog tonight, to negotiating with an employee on why this feature needed to be built urgently, to negotiating with an angry customer who’d called me angry about something, to negotiating with my parents on wedding plans, the list goes on. Each negotiation tougher and more emotional than the next, yet with tools that told me emotions didn’t matter. Huh?  I don’t remember how I came across Never Split the Difference, but man, am I glad I did. The book exposed me to a whole different way of negotiating, questioning the rational toolkit I’d been given in business school and replacing it with a more human set of tools. This set based on psychology and understanding of normal human emotions. It builds on empathy and active listening skills, layers on ways to label emotions and ask open-ended calibrated questions. It includes polite ways to say “no” without offending the other party, and many more. Most importantly it builds a framework that lets you deeply understand what the other party needs, wants, and desires, and work with them to achieve an outcome where you get your goals met — without ever “splitting the difference” again.  And it has worked wonders. Since reading this book, I have: - Forged a better relationship with my fianc&eacute;e by actively listening to her before jointly finding solutions - Negotiated successful resolutions to emotionally charged topics with parents and friends - Brought angry customers — who felt we had failed them — back from the brink to trusting us again - Forged a better relationship with my business partners by understanding how they value time, silence, relationships, surprises, etc… - Gotten discounts on things that I didn’t think could be discounted, just by using my name - Gotten to the front of the waiting line at busy restaurants - Said no to bad deals, because no deal is better than a bad one - the list goes on.  I warn you that this book is the start of a rabbit hole that you might want to keep digging down. I’ve recommended this book to anyone who will listen, personally bought it 29 times as a gift for friends & coworkers alike, taken an online class (taught by the author’s son, a brilliant negotiator in his own right), etc...  Negotiation, in the broadest sense as described above, is something I want to become an expert in, because I now understand that every conversation is a negotiation. This is likely the most useful skill you can learn and apply.  It all started with this book. Are you too busy to read it?\"}]"
      ]
     },
     "execution_count": 8,
     "metadata": {},
     "output_type": "execute_result"
    }
   ],
   "source": [
    "elastic_search(\n",
    "    query = \"What books were written by Benjamin Hardy?\",\n",
    "    category = 'bm' # 'Business & Money'\n",
    ")"
   ]
  },
  {
   "cell_type": "code",
   "execution_count": 10,
   "id": "e3da963b-cd17-471b-9cff-7f8c4276b915",
   "metadata": {},
   "outputs": [],
   "source": [
    "df_ground_truth = pd.read_csv('ground-truth-data.csv')"
   ]
  },
  {
   "cell_type": "code",
   "execution_count": 11,
   "id": "d53d3beb-d699-46c8-bc85-953afc4ef48d",
   "metadata": {},
   "outputs": [],
   "source": [
    "ground_truth = df_ground_truth.to_dict(orient='records')"
   ]
  },
  {
   "cell_type": "code",
   "execution_count": 12,
   "id": "1e08bcee-4c70-44b8-9525-ff89d9b2320b",
   "metadata": {},
   "outputs": [
    {
     "name": "stderr",
     "output_type": "stream",
     "text": [
      "100%|██████████| 160/160 [00:00<00:00, 189.24it/s]\n"
     ]
    }
   ],
   "source": [
    "relevance_total = []\n",
    "\n",
    "for q in tqdm(ground_truth):\n",
    "    doc_id = q['document']\n",
    "    results = elastic_search(query=q['question'], category=q['category'])\n",
    "    relevance = [d['id'] == doc_id for d in results]\n",
    "    relevance_total.append(relevance)"
   ]
  },
  {
   "cell_type": "code",
   "execution_count": 13,
   "id": "8959c9ff-5bbe-4729-8fa3-cdc51ed10f5f",
   "metadata": {},
   "outputs": [],
   "source": [
    "def hit_rate(relevance_total):\n",
    "    cnt = 0\n",
    "\n",
    "    for line in relevance_total:\n",
    "        if True in line:\n",
    "            cnt = cnt + 1\n",
    "\n",
    "    return cnt / len(relevance_total)"
   ]
  },
  {
   "cell_type": "code",
   "execution_count": 14,
   "id": "842255b5-18f2-4102-9689-a5835e0a621c",
   "metadata": {},
   "outputs": [],
   "source": [
    "def mrr(relevance_total):\n",
    "    total_score = 0.0\n",
    "\n",
    "    for line in relevance_total:\n",
    "        for rank in range(len(line)):\n",
    "            if line[rank] == True:\n",
    "                total_score = total_score + 1 / (rank + 1)\n",
    "\n",
    "    return total_score / len(relevance_total)"
   ]
  },
  {
   "cell_type": "markdown",
   "id": "46538d7c-4e5c-40c4-be02-836880ff7ca3",
   "metadata": {},
   "source": [
    "- hit-rate (recall)\n",
    "- Mean Reciprocal Rank (mrr)"
   ]
  },
  {
   "cell_type": "code",
   "execution_count": 15,
   "id": "e12883f1-13c1-4fe4-83ac-a4833d1cc97b",
   "metadata": {},
   "outputs": [
    {
     "data": {
      "text/plain": [
       "(0.79375, 0.6626041666666665)"
      ]
     },
     "execution_count": 15,
     "metadata": {},
     "output_type": "execute_result"
    }
   ],
   "source": [
    "hit_rate(relevance_total), mrr(relevance_total)"
   ]
  },
  {
   "cell_type": "code",
   "execution_count": 16,
   "id": "394d6728",
   "metadata": {},
   "outputs": [
    {
     "name": "stdout",
     "output_type": "stream",
     "text": [
      "Fetching documents...\n",
      " adding ../data/book-reviews-bm.csv: 158 record(s)\n",
      " adding ../data/book-reviews-hfd.csv: 35 record(s)\n",
      " adding ../data/book-reviews-sh.csv: 17 record(s)\n",
      " adding ../data/book-reviews-sm.csv: 51 record(s)\n",
      " Fetched 261 document(s)\n"
     ]
    }
   ],
   "source": [
    "\n",
    "\n",
    "DATA_PATH = '../data/'\n",
    "\n",
    "def fetch_documents(data_path=DATA_PATH):\n",
    "    print(\"Fetching documents...\")\n",
    "    df = pd.DataFrame()\n",
    "    data_path = data_path.rstrip('/') # prevent //\n",
    "    qna_files = sorted(glob(data_path+'/book-reviews-*.csv'))\n",
    "    for file_name in qna_files:\n",
    "        df_ = pd.read_csv(file_name) #, index_col=False)\n",
    "        print(f' adding {file_name}: {df_.shape[0]} record(s)')\n",
    "        df = pd.concat([df, df_]) #,ignore_index=True)\n",
    "\n",
    "    documents = df.to_dict(orient=\"records\")\n",
    "    print(f\" Fetched {len(documents)} document(s)\")\n",
    "    return documents\n",
    "\n",
    "documents = fetch_documents('../data')"
   ]
  },
  {
   "cell_type": "code",
   "execution_count": 17,
   "id": "d10bb1fd-6139-4450-864e-23f7b8531dee",
   "metadata": {},
   "outputs": [
    {
     "data": {
      "text/plain": [
       "<minsearch.Index at 0x7dd44c25d3a0>"
      ]
     },
     "execution_count": 17,
     "metadata": {},
     "output_type": "execute_result"
    }
   ],
   "source": [
    "import minsearch\n",
    "\n",
    "index = minsearch.Index(\n",
    "    text_fields=[\n",
    "            \"author\",\n",
    "            \"title\",\n",
    "            \"text\",\n",
    "            \"category\",\n",
    "        ],\n",
    "    keyword_fields=[\"id\"]\n",
    ")\n",
    "\n",
    "index.fit(documents)"
   ]
  },
  {
   "cell_type": "code",
   "execution_count": 18,
   "id": "e3d12e7b-eb97-4d47-b77f-c8cbb0d0ed73",
   "metadata": {},
   "outputs": [],
   "source": [
    "def minsearch_search(query, category, boost=None):\n",
    "    # boost = {'text': 3.0, 'title': 2.0, 'author': 2.0}\n",
    "    if boost is None:\n",
    "        boost = {}\n",
    "\n",
    "    results = index.search(\n",
    "        query=query,\n",
    "        filter_dict={'category': category},\n",
    "        boost_dict=boost,\n",
    "        num_results=5\n",
    "    )\n",
    "\n",
    "    return results"
   ]
  },
  {
   "cell_type": "code",
   "execution_count": 19,
   "id": "214c4783",
   "metadata": {},
   "outputs": [
    {
     "data": {
      "text/plain": [
       "[{'id': 'B007A4SDCG001',\n",
       "  'parent_asin': 'B007A4SDCG',\n",
       "  'author': 'Steven Pressfield',\n",
       "  'title': 'The War of Art',\n",
       "  'category': 'sh',\n",
       "  'publication_year': 2011,\n",
       "  'rating': 5.0,\n",
       "  'helpful_vote': 44,\n",
       "  'text': 'Published in 2002, The War of Art is about breaking through blocks that hold you back and disciplining yourself to do important work and pursue your calling. This book is aimed at creative artists, especially writers. But it contains lessons for anyone pursuing growth in any area who feels blocked by self-sabotaging behavior or failure to act.  The premise is that there are hidden forces working against us, leading to inaction, distraction, procrastination, complacency, fear and self-destructive behavior. The author calls these forces \"resistance.\" They exist within us as negative tendencies or programming in our subconscious. The resistance may also be outside us, as in associations with the wrong people, or addiction to distractions (which today includes social media).  Resistance doesn’t only affect writers. It hits in endeavors such as business, education, breaking bad habits and even, wrote Pressfield, \"Any diet or health regimen.” The back cover blurb says, “Dream about writing the great American novel? Regret not finishing your paintings? Wish you could start dieting or exercising today? Hope to run a marathon some day?” Resistance is what holds us back from these undertakings.  The War of Art is divided into three parts. In part one, Defining The Enemy, Pressfield describes the insidious nature of resistance. He explains it from his perspective as a writer, but lists many activities that elicit resistance. This includes any pursuit that calls for rejecting instant gratification in favor of long-term growth, health or integrity. He also warns of the cost of giving in to resistance.  In part two, Combatting Resistance, you’re encouraged that resistance can be beaten. The way is by turning pro and ceasing to act like an amateur. You learn that this is not an easy task. You only turn pro by practicing self-discipline and pursuing self-mastery.  Here’s a partial list of what Pressfield says turning pro looks like: 1. The pro shows up every day no matter what. 2. The pro is committed for the long haul. 3. The pro knows the stakes are high and real. 4. The pro masters the technique of their craft. 5. The pro doesn’t accept excuses. 6. The pro keeps working with the cards he is dealt. 7. The pro is a student of the game for life and open to coaching. 8. The pro reinvents himself. 9. The pro endures adversity. 10. The pro is patient.  The third part of The War of Art is called, Beyond Resistance: Higher Realm. Some readers might find this part strange or even off-putting as it touches on spiritual topics. The author uses the term “muses” or even “angels” to describe the invisible source of inspiration that spurs us on to do our work. However, depending on your belief system, you could conceptualize this two ways:  One, this is the subconscious. This powerful part of our mind stores everything we’ve ever seen, read and experienced and can call it up into conscious awareness. It can also assemble old ideas and knowledge into new combinations. It is the wellspring of our creativity. Two, there’s a universal consciousness. This is a higher power, creative in nature, and possessing all knowledge. We are connected to it, or one with it in individualized form. We can call on it. But we can also cut ourselves off from this inspiration if we identify only with the ego and physical self.  The second interpretation appears more powerful, infinitely so. In either case, the author does not suggest just sitting around to pray or meditate. The key is setting an intention and then starting the work. You commit to show up and simply begin no matter what. As you begin, you ask for guidance (“invoke the muse”), and the beneficent unseen forces show up. You’re inspired to keep taking action.  You’re infused with energy. Ideas keep popping into your head.  A core message is that we are creative and growth-oriented beings by nature and we have a channel to a creative source. Failure to act on our higher urges, do our work and create something or grow as a person means a life unlived, and cheating others out of our potential contributions.  Pressfield has a unique, impactful style. There are a couple F bombs, but colorful language is not gratuitous. At 165 pages, you can zip through the book quickly, especially because some pages contain only one paragraph.  I can understand how this book might not be everyone’s cup of tea, but it resonated with me. On the cover, a blurb from Esquire says, “… a kick in the ass.”  That’s exactly how I’d describe it too.'},\n",
       " {'id': 'B007A4SDCG004',\n",
       "  'parent_asin': 'B007A4SDCG',\n",
       "  'author': 'Steven Pressfield',\n",
       "  'title': 'The War of Art',\n",
       "  'category': 'sh',\n",
       "  'publication_year': 2011,\n",
       "  'rating': 3.0,\n",
       "  'helpful_vote': 6,\n",
       "  'text': \"The urge for synchronicity is strong in this Jedi. Pressfield has invented his own religion by weaving together threads from various religions, philosophies and myths.  He describes the burden/freedom of creating work, or maybe even being a human, in a Zen-like, guru-esque narrative. When it's all said and done, it's a ride-along in his head.  If you liked Zen and the Art of Motorcycle Maintenance, The Power of Now or A Course in Miracles, you will like this; if you have a faith heritage and appreciate scriptural traditions, probably not so much.\"}]"
      ]
     },
     "execution_count": 19,
     "metadata": {},
     "output_type": "execute_result"
    }
   ],
   "source": [
    "minsearch_search(\n",
    "    query = \"What books were written by Benjamin Hardy?\",\n",
    "    category = 'Business & Money'\n",
    ")[0:2]\n",
    "\n",
    "minsearch_search(\n",
    "    query = \"What books were written by Steve Brusatte?\",\n",
    "    category = 'Science & Math'\n",
    ")[0:2]\n",
    "\n",
    "minsearch_search(\n",
    "    query = \"What books were written by Michael Matthews?\",\n",
    "    category = 'Health, Fitness & Dieting'\n",
    ")[0:2]\n",
    "\n",
    "minsearch_search(\n",
    "    query = \"What books were written by Steven Pressfield?\",\n",
    "    category = 'Self-Help'\n",
    ")[0:2]"
   ]
  },
  {
   "cell_type": "code",
   "execution_count": 20,
   "id": "351255d3-2fa5-400e-954a-72c115e94637",
   "metadata": {},
   "outputs": [
    {
     "name": "stderr",
     "output_type": "stream",
     "text": [
      "100%|██████████| 160/160 [00:00<00:00, 290.75it/s]\n"
     ]
    }
   ],
   "source": [
    "relevance_total = []\n",
    "\n",
    "for q in tqdm(ground_truth):\n",
    "    doc_id = q['document']\n",
    "    results = minsearch_search(query=q['question'], category=q['category'])\n",
    "    relevance = [d['id'] == doc_id for d in results]\n",
    "    relevance_total.append(relevance)"
   ]
  },
  {
   "cell_type": "code",
   "execution_count": 21,
   "id": "b9c2a382-edce-4e6a-8d2e-caabf43f4483",
   "metadata": {},
   "outputs": [
    {
     "data": {
      "text/plain": [
       "(0.71875, 0.5032291666666667)"
      ]
     },
     "execution_count": 21,
     "metadata": {},
     "output_type": "execute_result"
    }
   ],
   "source": [
    "hit_rate(relevance_total), mrr(relevance_total)"
   ]
  },
  {
   "cell_type": "markdown",
   "id": "dbf29cd6-705b-4076-9aef-098dcfaceaf1",
   "metadata": {},
   "source": [
    "Compare with ES results:\n",
    "```\n",
    "(0.79375, 0.6626041666666665)\n",
    "```"
   ]
  },
  {
   "cell_type": "code",
   "execution_count": 23,
   "id": "f11baaff-43d9-4b8c-a896-561b86e85743",
   "metadata": {},
   "outputs": [],
   "source": [
    "def evaluate(ground_truth, search_function):\n",
    "    relevance_total = []\n",
    "\n",
    "    for q in tqdm(ground_truth):\n",
    "        doc_id = q['document']\n",
    "        results = search_function(q)\n",
    "        relevance = [d['id'] == doc_id for d in results]\n",
    "        relevance_total.append(relevance)\n",
    "\n",
    "    return {\n",
    "        'hit_rate': hit_rate(relevance_total),\n",
    "        'mrr': mrr(relevance_total),\n",
    "    }"
   ]
  },
  {
   "cell_type": "code",
   "execution_count": 24,
   "id": "611846a8-a977-4483-bd01-61575821c18c",
   "metadata": {},
   "outputs": [
    {
     "name": "stderr",
     "output_type": "stream",
     "text": [
      "100%|██████████| 160/160 [00:00<00:00, 241.12it/s]\n"
     ]
    },
    {
     "data": {
      "text/plain": [
       "{'hit_rate': 0.79375, 'mrr': 0.6626041666666665}"
      ]
     },
     "execution_count": 24,
     "metadata": {},
     "output_type": "execute_result"
    }
   ],
   "source": [
    "evaluate(ground_truth, lambda q: elastic_search(q['question'], q['category']))"
   ]
  },
  {
   "cell_type": "code",
   "execution_count": 25,
   "id": "14cab5ff-f42e-4030-b7ba-6edf47d73d21",
   "metadata": {},
   "outputs": [
    {
     "name": "stderr",
     "output_type": "stream",
     "text": [
      "100%|██████████| 160/160 [00:00<00:00, 293.63it/s]\n"
     ]
    },
    {
     "data": {
      "text/plain": [
       "{'hit_rate': 0.71875, 'mrr': 0.5032291666666667}"
      ]
     },
     "execution_count": 25,
     "metadata": {},
     "output_type": "execute_result"
    }
   ],
   "source": [
    "evaluate(ground_truth, lambda q: minsearch_search(q['question'], q['category']))"
   ]
  },
  {
   "cell_type": "markdown",
   "id": "074026ab",
   "metadata": {},
   "source": [
    "## Finding the best parameters"
   ]
  },
  {
   "cell_type": "code",
   "execution_count": 27,
   "id": "fa2d97a1",
   "metadata": {},
   "outputs": [],
   "source": [
    "n_gt = df_ground_truth.shape[0]\n",
    "df_validation = df_ground_truth[:n_gt//2]\n",
    "df_test = df_ground_truth[n_gt//2:]"
   ]
  },
  {
   "cell_type": "code",
   "execution_count": 28,
   "id": "137c2934",
   "metadata": {},
   "outputs": [],
   "source": [
    "import random\n",
    "\n",
    "def simple_optimize(param_ranges, objective_function, n_iterations=10):\n",
    "    best_params = None\n",
    "    best_score = float('-inf')  # Assuming we're minimizing. Use float('-inf') if maximizing.\n",
    "\n",
    "    for _ in range(n_iterations):\n",
    "        # Generate random parameters\n",
    "        current_params = {}\n",
    "        for param, (min_val, max_val) in param_ranges.items():\n",
    "            if isinstance(min_val, int) and isinstance(max_val, int):\n",
    "                current_params[param] = random.randint(min_val, max_val)\n",
    "            else:\n",
    "                current_params[param] = random.uniform(min_val, max_val)\n",
    "        \n",
    "        # Evaluate the objective function\n",
    "        current_score = objective_function(current_params)\n",
    "        \n",
    "        # Update best if current is better\n",
    "        if current_score > best_score:  # Change to > if maximizing\n",
    "            best_score = current_score\n",
    "            best_params = current_params\n",
    "    \n",
    "    return best_params, best_score"
   ]
  },
  {
   "cell_type": "code",
   "execution_count": 29,
   "id": "6ee2a077",
   "metadata": {},
   "outputs": [],
   "source": [
    "gt_val = df_validation.to_dict(orient='records')\n",
    "gt_test = df_test.to_dict(orient='records')"
   ]
  },
  {
   "cell_type": "code",
   "execution_count": 30,
   "id": "57daafa2",
   "metadata": {},
   "outputs": [],
   "source": [
    "param_ranges = {\n",
    "    'author': (0.0, 3.0),\n",
    "    'title': (0.0, 3.0),\n",
    "    'text': (0.0, 3.0),\n",
    "}\n",
    "\n",
    "CATEGORY = 'bm' # 'Business & Money'\n",
    "\n",
    "def objective(boost_params):\n",
    "    def search_function(q):\n",
    "        return minsearch_search(q['question'], CATEGORY, boost_params)\n",
    "\n",
    "    results = evaluate(gt_val, search_function)\n",
    "    return results['mrr']"
   ]
  },
  {
   "cell_type": "code",
   "execution_count": 31,
   "id": "34e5cec0",
   "metadata": {},
   "outputs": [
    {
     "name": "stderr",
     "output_type": "stream",
     "text": [
      "100%|██████████| 80/80 [00:00<00:00, 296.66it/s]\n",
      "100%|██████████| 80/80 [00:00<00:00, 285.31it/s]\n",
      "100%|██████████| 80/80 [00:00<00:00, 301.05it/s]\n",
      "100%|██████████| 80/80 [00:00<00:00, 291.66it/s]\n",
      "100%|██████████| 80/80 [00:00<00:00, 293.39it/s]\n",
      "100%|██████████| 80/80 [00:00<00:00, 263.08it/s]\n",
      "100%|██████████| 80/80 [00:00<00:00, 302.10it/s]\n",
      "100%|██████████| 80/80 [00:00<00:00, 298.72it/s]\n",
      "100%|██████████| 80/80 [00:00<00:00, 275.19it/s]\n",
      "100%|██████████| 80/80 [00:00<00:00, 299.74it/s]\n",
      "100%|██████████| 80/80 [00:00<00:00, 299.75it/s]\n",
      "100%|██████████| 80/80 [00:00<00:00, 301.00it/s]\n",
      "100%|██████████| 80/80 [00:00<00:00, 300.41it/s]\n",
      "100%|██████████| 80/80 [00:00<00:00, 302.60it/s]\n",
      "100%|██████████| 80/80 [00:00<00:00, 301.02it/s]\n",
      "100%|██████████| 80/80 [00:00<00:00, 295.86it/s]\n",
      "100%|██████████| 80/80 [00:00<00:00, 290.79it/s]\n",
      "100%|██████████| 80/80 [00:00<00:00, 295.45it/s]\n",
      "100%|██████████| 80/80 [00:00<00:00, 300.86it/s]\n",
      "100%|██████████| 80/80 [00:00<00:00, 286.98it/s]\n"
     ]
    },
    {
     "data": {
      "text/plain": [
       "({'author': 1.2235875785555366,\n",
       "  'title': 0.16262322287733988,\n",
       "  'text': 2.841469158263197},\n",
       " 0.6364583333333335)"
      ]
     },
     "execution_count": 31,
     "metadata": {},
     "output_type": "execute_result"
    }
   ],
   "source": [
    "simple_optimize(param_ranges, objective, n_iterations=20)"
   ]
  },
  {
   "cell_type": "code",
   "execution_count": 32,
   "id": "23f4cc38",
   "metadata": {},
   "outputs": [
    {
     "name": "stderr",
     "output_type": "stream",
     "text": [
      "100%|██████████| 160/160 [00:00<00:00, 291.47it/s]\n"
     ]
    },
    {
     "data": {
      "text/plain": [
       "{'hit_rate': 0.85625, 'mrr': 0.6561458333333332}"
      ]
     },
     "execution_count": 32,
     "metadata": {},
     "output_type": "execute_result"
    }
   ],
   "source": [
    "def minsearch_improved(query, category=CATEGORY):\n",
    "    boost = {\n",
    "        'author': 1.22,\n",
    "        'title': 0.16,\n",
    "        'text': 2.84,\n",
    "    }\n",
    "\n",
    "    results = index.search(\n",
    "        query=query,\n",
    "        filter_dict={'category': category},\n",
    "        boost_dict=boost,\n",
    "        num_results=5\n",
    "    )\n",
    "\n",
    "    return results\n",
    "\n",
    "evaluate(ground_truth, lambda q: minsearch_improved(q['question']))"
   ]
  },
  {
   "cell_type": "code",
   "execution_count": 33,
   "id": "94824e5c",
   "metadata": {},
   "outputs": [
    {
     "name": "stderr",
     "output_type": "stream",
     "text": [
      "100%|██████████| 160/160 [00:00<00:00, 295.49it/s]\n"
     ]
    },
    {
     "data": {
      "text/plain": [
       "{'hit_rate': 0.8625, 'mrr': 0.6561458333333332}"
      ]
     },
     "execution_count": 33,
     "metadata": {},
     "output_type": "execute_result"
    }
   ],
   "source": [
    "def minsearch_improved(query, category=CATEGORY):\n",
    "    boost = {\n",
    "        'author': 1.87,\n",
    "        'title': 0.26,\n",
    "        'text': 1.65,\n",
    "    }\n",
    "\n",
    "    results = index.search(\n",
    "        query=query,\n",
    "        filter_dict={'category': category},\n",
    "        boost_dict=boost,\n",
    "        num_results=5\n",
    "    )\n",
    "\n",
    "    return results\n",
    "\n",
    "evaluate(ground_truth, lambda q: minsearch_improved(q['question']))"
   ]
  },
  {
   "cell_type": "markdown",
   "id": "8d9df2d5",
   "metadata": {},
   "source": [
    "before optimization: (0.8, 0.5859374999999999)"
   ]
  },
  {
   "cell_type": "markdown",
   "id": "f6be5b78",
   "metadata": {},
   "source": [
    "Compare with ES results:\n",
    "```\n",
    "(0.79375, 0.6643749999999999)\n",
    "```"
   ]
  },
  {
   "cell_type": "code",
   "execution_count": 34,
   "id": "f1d3530e-1406-49dd-bba9-914f6a39d7f2",
   "metadata": {},
   "outputs": [
    {
     "name": "stderr",
     "output_type": "stream",
     "text": [
      "100%|██████████| 80/80 [00:00<00:00, 269.53it/s]\n"
     ]
    },
    {
     "data": {
      "text/plain": [
       "{'hit_rate': 0.8625, 'mrr': 0.6814583333333335}"
      ]
     },
     "execution_count": 34,
     "metadata": {},
     "output_type": "execute_result"
    }
   ],
   "source": [
    "evaluate(gt_test, lambda q: minsearch_improved(q['question']))"
   ]
  },
  {
   "cell_type": "code",
   "execution_count": 35,
   "id": "f104ae29",
   "metadata": {},
   "outputs": [],
   "source": [
    "def elastic_search(query, category, boost=None):\n",
    "    # boost = {'text': 3, 'title': 2, 'author': 2}\n",
    "    if boost is None:\n",
    "        boost_te = ''\n",
    "        boost_au = ''\n",
    "        boost_ti = ''\n",
    "    else:\n",
    "        boost_te = f\"^{boost['text']}\" if boost['text'] else ''\n",
    "        boost_au = f\"^{boost['author']}\" if boost['author'] else ''\n",
    "        boost_ti = f\"^{boost['title']}\" if boost['title'] else ''\n",
    "    \n",
    "    search_query = {\n",
    "        \"size\": 5,\n",
    "        \"query\": {\n",
    "            \"bool\": {\n",
    "                \"must\": {\n",
    "                    \"multi_match\": {\n",
    "                        \"query\": query,\n",
    "                        \"fields\": [f\"text{boost_te}\", f\"title{boost_ti}\", f\"author{boost_au}\"],\n",
    "                        \"type\": \"best_fields\"\n",
    "                    }\n",
    "                },\n",
    "                \"filter\": {\n",
    "                    \"term\": {\n",
    "                        \"category\": category\n",
    "                    }\n",
    "                }\n",
    "            }\n",
    "        }\n",
    "    }\n",
    "\n",
    "    response = es_client.search(index=index_name, body=search_query)\n",
    "    \n",
    "    result_docs = []\n",
    "    \n",
    "    for hit in response['hits']['hits']:\n",
    "        result_docs.append(hit['_source'])\n",
    "    \n",
    "    return result_docs"
   ]
  },
  {
   "cell_type": "code",
   "execution_count": 36,
   "id": "69f009ad",
   "metadata": {},
   "outputs": [
    {
     "data": {
      "text/plain": [
       "[{'id': 'B09BTV53VD131',\n",
       "  'author': 'Benjamin P. Hardy',\n",
       "  'title': 'Be Your Future Self Now: The Science of Intentional Transformation',\n",
       "  'category': 'bm',\n",
       "  'text': \"[[VIDEOID:b0af83c60a89ba48220269c6223326c2]] Have read every one of Dr. Hardy's books, this one ranks at the very top.  Have read over 1000 books in the productivity / self dev / business entrepreneur world, and this is probably in my top 5.  We all want to get to our goals and outcomes faster.  Most of us including me fall short.  If you follow what Dr. Hardy says in this gem, you will get to your goals and outcomes with a whole lot more certainty, faster than you ever thought was possible.  I read this five weeks ago, did everything Dr. Hardy told me to do in the book including the last step in the conclusion, and have never come close to having more gigantic opportunities come into my life because I was acting like my future self (5 years from now - even more energetic, happy, fulfilled, successful, fit) which allowed me to receive those opportunities.  Half of those five weeks were spent sick with COVID by the way.  Thank you Dr. Hardy for writing such a gem which allows us to live in abundance and get what we want and deserve in our lives.  See the video if you want more of the review.\"},\n",
       " {'id': 'B09BTV53VD133',\n",
       "  'author': 'Benjamin P. Hardy',\n",
       "  'title': 'Be Your Future Self Now: The Science of Intentional Transformation',\n",
       "  'category': 'bm',\n",
       "  'text': \"Hardy also produces YouTube vids, and much of the book reads like a transcription of the videos. That's not always a bad thing. Funny, but I think of Jesus when I read his book or listen to a video: I see now how people around Jesus were amazed that Jesus spoke differently, as one with authority. Hardy does not do that. In fact, his writing and talking are generally long dissertations of other people's work and what other people said and how other people do things...all with notes and references.  As an aficionado of self-help, I was excited about this book but there's really nothing new added here that's added to the genre. If you can call it a genre. It's similar stuff uniquely packaged and said differently, but if you have read other big name self-helpers, then you will have heard it all before.  One thing bothers me, and maybe it's the real truth of all self-helpers: other writers say their goal is to help you - the reader - achieve and attain and become something. Hardy is unabashed that his goal is to be a professional writer. When I talk with other newish writers - a woman I know in Britain has just published her second book and we talk about this - they are busting at the seams to write and connect with people. You sense in their voice and in the tone of their writing that this welling up of feelings is genuine. I sense with Hardy that he...wants to be famous. I do not know him and might change my mind if we met...  Okay, two things. I signed onto something and gave him my email address. Now I get two or three emails a week directing me to a breakthrough 90-minute video that I SIMPLY MUST WATCH IF I'M SERIOUS ABOUT MY FUTURE. Maybe, if I were serious about my future, I'd set aside the four or five hours a week to watch this stuff, but, well, the lawn needs mowing and I have my own books to write.  Even so, it's good read that is written conversationally.\"},\n",
       " {'id': 'B000OT8GD0014',\n",
       "  'author': 'Malcolm Gladwell',\n",
       "  'title': 'The Tipping Point: How Little Things Can Make a Big Difference',\n",
       "  'category': 'bm',\n",
       "  'text': 'I realize I’m a little late to this book. It was published in 2002, and many of my friends have already read it. This is the second of his books I’ve read, and I find myself again slightly uncomfortable. I realize what was tolerable twenty years ago differs from today. So maybe he needs to update it. Or, just like something’s were always wrong, regardless of historical context, maybe it’s just wrong.  I have to wonder what Michelle Alexander would say to Malcolm Gladwell on his chapter talking about crime. This whole chapter in crime was triggering for me. I remember when Bernard Goetz killed those four youths. I remember him being glorified for murdering them in the name of vigilante justice. I remember him being let go. Despite his deep psychological issues, despite having committed four deadly crimes in the space of minutes in front of many witnesses, he was set free. Gladwell could’ve made his point without this example, where a White man was not held accountable for the four lives he took, all of whom were Black. And at the end of the chapter, he pretty much gives Goetz a pass for behaving in an excusable way given his environment. WtF!  He also uses examples where women are painted in sexist hues, using words and phrases like, “would she be able to handle everything by herself (financially, if her husband died)”, in another chapter, he uses the example of a woman, calling her “castrating.”  Then there’s the issue of class. He doesn’t define what constitutes a “good neighborhood” or a “good family” but says a juvenile’s success can be determined by both factors.  I was also deeply disturbed by his parallel between teen suicide in Micronesia and teen smoking in the Western Hemisphere. I really wish he’d used a different example. Suicide and smoking are not analogous in any context since the former results in a total and sudden loss of life, not to mention that there are too many cultural differences between Micronesia and the entire Western Hemisphere. They are simply incomparable. I say the same thing when he compared these same smokers to the school shootings that are so commonplace these days. They are incomparable. He should’ve used different examples, or he should’ve used just one rather than trying to compare them. Plus, I question the accuracy of his smokers’ profile, given there was no data to accompany it - just a British psychologist’s written observations from an undocumented time. Certainly, I don’t fit the profile, and I was a chain smoker for many years.  Some of the conclusions were illogical. Citing studies where one thing should be concluded by the absence of the other is not necessarily the right conclusion. You have to test the absent portion first. Without the second set of data, the first conclusion is exposed to fallacy. Maybe that absence was considered, but because he jumps to the conclusion without it, it makes me wonder of it was. It’s like saying you will lose weight if you stop drinking soda. Well, would that still be the only logical conclusion if you you were sick or you were increasing your exercise, or what if you increased your chocolate intake while eliminating soda? So this makes me question the soundness of the rest of his conclusions. It’s not to say I throw out everything he says, but it is to wonder how much of it I can trust. I might be more open to his analyses if the book had even one footnote. For all I know, this could be a complete work of fiction, because I have no references to fact-check.  If he were to update some of the sociopolitical contexts I mentioned and if he were to include how the tipping point works in social media, I would definitely be interested in rereading it.'},\n",
       " {'id': 'B06XFJ2JGR069',\n",
       "  'author': 'Donald Miller',\n",
       "  'title': 'Building a StoryBrand: Clarify Your Message So Customers Will Listen',\n",
       "  'category': 'bm',\n",
       "  'text': 'I’ve been a professional writer and copywriter for 50 years now. I’ve written fiction and nonfiction books, articles, blog posts, and a boatload of marketing material. I’ve used the hero’s journey model for more than two decades. So, when I tell you that Building A Story Brand: Clarify Your Message So Customers Will Listen by Donald Miller is a book that taught me a lot, that should carry some weight.  I picked it up because a good and trusted friend told me that he thought I’d like it and learn something. At first glance, I thought it was another one of those books about the magic of the hero’s journey. Even so, I dug into it, because my friend is almost always right when he recommends a book. He sure was right this time.  Lots of people have written about how to use the hero’s journey in both storytelling and in marketing copy. This book is about writing marketing copy, especially web copy. Donald Miller does four important things that make this book unique and helpful.  He points out that you shouldn’t be the hero of the story. Many writers do that, but the customer should be the hero. OK, then, what about the company or the brand? That should be the guide. Think Obi-Wan Kenobi from Star Wars or Haymitch from Hunger Games.  Miller also notes that if there’s no danger, there’s no story that matters. Most other writers don’t mention the danger or underplay it. But the reason we call it the” hero’s journey” is that the hero makes it through the forest when lots of other people don’t. Adding that bit on what will happen if the hero fails in his quest will make your marketing copy and your stories stronger.  If you’re used to jargon-filled marketing books, rejoice! This isn’t one of them. Miller writes good, clean prose and his experience as a screenwriter shows up in many of his clear explanations.  That’s enough right there to make this book worth buying. But Miller also lays out a process for you to use when you sit down to create your own copy. He tells you, step by step, how to execute copy that brings each one into play.  In A Nutshell  If you’re an experienced writer or copy writer, you should read Building A Story Brand: Clarify Your Message So Customers Will Listen by Donald Miller because it will give you some fresh ideas and insights. If you’re like me, you will already know a lot of what’s here, but you’ll benefit from the clear explanations and the practical how-tos.  If you’re not a pro, this is a great book for you to help you either write your own copy for your website or marketing material or evaluate the copy that other people do for you.'},\n",
       " {'id': 'B014DUR7L2043',\n",
       "  'author': 'Tahl Raz',\n",
       "  'title': 'Never Split the Difference: Negotiating As If Your Life Depended On It',\n",
       "  'category': 'bm',\n",
       "  'text': \"My guess is around 70% of my purchases are made on Amazon: it's a lot of stuff, both for home and for my company. This is the first item (across all categories) that I have written a review for. I am compelled because this book has changed my life, and I suspect it can change yours — What do you have to lose by reading it?  I thought I’d learned what I needed to know about negotiation. I went to a prestigious business school and took their negotiation class, learning all about Getting Yes, BATNA, and other fancy acronyms. I’d also had to bargain my share in both work and personal life. Yet, I felt like the tools I’d been given were meant for some alternate reality where people are totally dispassionate, rational robots, doing math in their heads to get to logical outcomes. The negotiations I’d been in with were instead with passionate, irrational (including myself) humans, sometimes getting angry or sad, often making decisions that didn’t “make any sense” (to me). I was pretty sure the negotiation outcomes we were getting to were subpar, both for me and for them: a lot of splitting the difference, mostly to make the negotiations — which felt uncomfortable for all parties — stop.  Note, when I mean “negotiation”, I’m speaking pretty broadly: from “negotiating' with my fianc&eacute;e on who should walk the dog tonight, to negotiating with an employee on why this feature needed to be built urgently, to negotiating with an angry customer who’d called me angry about something, to negotiating with my parents on wedding plans, the list goes on. Each negotiation tougher and more emotional than the next, yet with tools that told me emotions didn’t matter. Huh?  I don’t remember how I came across Never Split the Difference, but man, am I glad I did. The book exposed me to a whole different way of negotiating, questioning the rational toolkit I’d been given in business school and replacing it with a more human set of tools. This set based on psychology and understanding of normal human emotions. It builds on empathy and active listening skills, layers on ways to label emotions and ask open-ended calibrated questions. It includes polite ways to say “no” without offending the other party, and many more. Most importantly it builds a framework that lets you deeply understand what the other party needs, wants, and desires, and work with them to achieve an outcome where you get your goals met — without ever “splitting the difference” again.  And it has worked wonders. Since reading this book, I have: - Forged a better relationship with my fianc&eacute;e by actively listening to her before jointly finding solutions - Negotiated successful resolutions to emotionally charged topics with parents and friends - Brought angry customers — who felt we had failed them — back from the brink to trusting us again - Forged a better relationship with my business partners by understanding how they value time, silence, relationships, surprises, etc… - Gotten discounts on things that I didn’t think could be discounted, just by using my name - Gotten to the front of the waiting line at busy restaurants - Said no to bad deals, because no deal is better than a bad one - the list goes on.  I warn you that this book is the start of a rabbit hole that you might want to keep digging down. I’ve recommended this book to anyone who will listen, personally bought it 29 times as a gift for friends & coworkers alike, taken an online class (taught by the author’s son, a brilliant negotiator in his own right), etc...  Negotiation, in the broadest sense as described above, is something I want to become an expert in, because I now understand that every conversation is a negotiation. This is likely the most useful skill you can learn and apply.  It all started with this book. Are you too busy to read it?\"}]"
      ]
     },
     "execution_count": 36,
     "metadata": {},
     "output_type": "execute_result"
    }
   ],
   "source": [
    "elastic_search(\n",
    "    query = \"What books were written by Benjamin Hardy?\",\n",
    "    category = 'bm' # 'Business & Money'\n",
    ")"
   ]
  },
  {
   "cell_type": "code",
   "execution_count": 44,
   "id": "6a7e7373",
   "metadata": {},
   "outputs": [],
   "source": [
    "param_ranges = {\n",
    "    'author': (0, 10),\n",
    "    'title': (0, 10),\n",
    "    'text': (0, 10),\n",
    "}\n",
    "\n",
    "CATEGORY = 'bm' # 'Business & Money'\n",
    "\n",
    "def objective(boost_params):\n",
    "    def search_function(q):\n",
    "        return elastic_search(q['question'], CATEGORY, boost_params)\n",
    "\n",
    "    results = evaluate(gt_val, search_function)\n",
    "    return results['mrr']"
   ]
  },
  {
   "cell_type": "code",
   "execution_count": 38,
   "id": "d3a8127a",
   "metadata": {},
   "outputs": [],
   "source": [
    "import random\n",
    "\n",
    "def simple_optimize(param_ranges, objective_function, n_iterations=10):\n",
    "    best_params = None\n",
    "    best_score = float('-inf')  # Assuming we're minimizing. Use float('-inf') if maximizing.\n",
    "\n",
    "    for _ in range(n_iterations):\n",
    "        # Generate random parameters\n",
    "        current_params = {}\n",
    "        for param, (min_val, max_val) in param_ranges.items():\n",
    "            if isinstance(min_val, int) and isinstance(max_val, int):\n",
    "                current_params[param] = random.randint(min_val, max_val)\n",
    "            else:\n",
    "                current_params[param] = random.uniform(min_val, max_val)\n",
    "        \n",
    "        # Evaluate the objective function\n",
    "        current_score = objective_function(current_params)\n",
    "        \n",
    "        # Update best if current is better\n",
    "        if current_score > best_score:  # Change to > if maximizing\n",
    "            best_score = current_score\n",
    "            best_params = current_params\n",
    "    \n",
    "    return best_params, best_score"
   ]
  },
  {
   "cell_type": "code",
   "execution_count": 48,
   "id": "aa4e5b46",
   "metadata": {},
   "outputs": [
    {
     "name": "stderr",
     "output_type": "stream",
     "text": [
      "100%|██████████| 80/80 [00:00<00:00, 505.82it/s]\n",
      "100%|██████████| 80/80 [00:00<00:00, 460.71it/s]\n",
      "100%|██████████| 80/80 [00:00<00:00, 459.02it/s]\n",
      "100%|██████████| 80/80 [00:00<00:00, 524.86it/s]\n",
      "100%|██████████| 80/80 [00:00<00:00, 526.60it/s]\n",
      "100%|██████████| 80/80 [00:00<00:00, 534.82it/s]\n",
      "100%|██████████| 80/80 [00:00<00:00, 482.30it/s]\n",
      "100%|██████████| 80/80 [00:00<00:00, 479.88it/s]\n",
      "100%|██████████| 80/80 [00:00<00:00, 505.12it/s]\n",
      "100%|██████████| 80/80 [00:00<00:00, 477.06it/s]\n",
      "100%|██████████| 80/80 [00:00<00:00, 515.30it/s]\n",
      "100%|██████████| 80/80 [00:00<00:00, 507.54it/s]\n",
      "100%|██████████| 80/80 [00:00<00:00, 495.84it/s]\n",
      "100%|██████████| 80/80 [00:00<00:00, 487.67it/s]\n",
      "100%|██████████| 80/80 [00:00<00:00, 464.95it/s]\n",
      "100%|██████████| 80/80 [00:00<00:00, 512.92it/s]\n",
      "100%|██████████| 80/80 [00:00<00:00, 540.90it/s]\n",
      "100%|██████████| 80/80 [00:00<00:00, 541.06it/s]\n",
      "100%|██████████| 80/80 [00:00<00:00, 537.49it/s]\n",
      "100%|██████████| 80/80 [00:00<00:00, 530.80it/s]\n"
     ]
    },
    {
     "data": {
      "text/plain": [
       "({'author': 4, 'title': 6, 'text': 6}, 0.6212500000000001)"
      ]
     },
     "execution_count": 48,
     "metadata": {},
     "output_type": "execute_result"
    }
   ],
   "source": [
    "simple_optimize(param_ranges, objective, n_iterations=20)"
   ]
  },
  {
   "cell_type": "code",
   "execution_count": 50,
   "id": "9e7336b1",
   "metadata": {},
   "outputs": [],
   "source": [
    "def elastic_search_improved(query, category): #, boost=None):\n",
    "    # boost = {'text': 3, 'title': 2, 'author': 2}\n",
    "    # if boost is None:\n",
    "    #     boost_te = ''\n",
    "    #     boost_au = ''\n",
    "    #     boost_ti = ''\n",
    "    # else:\n",
    "    #     boost_te = f\"^{boost['text']}\" if boost['text'] else ''\n",
    "    #     boost_au = f\"^{boost['author']}\" if boost['author'] else ''\n",
    "    #     boost_ti = f\"^{boost['title']}\" if boost['title'] else ''\n",
    "    \n",
    "    search_query = {\n",
    "        \"size\": 5,\n",
    "        \"query\": {\n",
    "            \"bool\": {\n",
    "                \"must\": {\n",
    "                    \"multi_match\": {\n",
    "                        \"query\": query,\n",
    "                        # \"fields\": [f\"text{boost_te}\", f\"title{boost_ti}\", f\"author{boost_au}\"],\n",
    "                        \"fields\": [f\"text^6\", f\"title^6\", f\"author^4\"],\n",
    "                        \"type\": \"best_fields\"\n",
    "                    }\n",
    "                },\n",
    "                \"filter\": {\n",
    "                    \"term\": {\n",
    "                        \"category\": category\n",
    "                    }\n",
    "                }\n",
    "            }\n",
    "        }\n",
    "    }\n",
    "\n",
    "    response = es_client.search(index=index_name, body=search_query)\n",
    "    \n",
    "    result_docs = []\n",
    "    \n",
    "    for hit in response['hits']['hits']:\n",
    "        result_docs.append(hit['_source'])\n",
    "    \n",
    "    return result_docs"
   ]
  },
  {
   "cell_type": "code",
   "execution_count": 51,
   "id": "4180c6c8",
   "metadata": {},
   "outputs": [
    {
     "name": "stderr",
     "output_type": "stream",
     "text": [
      "100%|██████████| 80/80 [00:00<00:00, 530.17it/s]\n"
     ]
    },
    {
     "data": {
      "text/plain": [
       "{'hit_rate': 0.825, 'mrr': 0.72}"
      ]
     },
     "execution_count": 51,
     "metadata": {},
     "output_type": "execute_result"
    }
   ],
   "source": [
    "evaluate(gt_test, lambda q: elastic_search_improved(q['question'], CATEGORY))"
   ]
  },
  {
   "cell_type": "markdown",
   "id": "1c469bc1",
   "metadata": {},
   "source": [
    "without boost\n",
    "\n",
    "(0.79375, 0.6626041666666665)"
   ]
  }
 ],
 "metadata": {
  "kernelspec": {
   "display_name": "Python 3",
   "language": "python",
   "name": "python3"
  },
  "language_info": {
   "codemirror_mode": {
    "name": "ipython",
    "version": 3
   },
   "file_extension": ".py",
   "mimetype": "text/x-python",
   "name": "python",
   "nbconvert_exporter": "python",
   "pygments_lexer": "ipython3",
   "version": "3.12.1"
  }
 },
 "nbformat": 4,
 "nbformat_minor": 5
}
